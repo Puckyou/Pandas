{
 "cells": [
  {
   "cell_type": "markdown",
   "metadata": {},
   "source": [
    "# Задание 1. "
   ]
  },
  {
   "cell_type": "code",
   "execution_count": 131,
   "metadata": {
    "collapsed": true
   },
   "outputs": [],
   "source": [
    "import pandas as pd\n",
    "\n",
    "import numpy as np\n",
    "\n",
    "import matplotlib.pyplot as plt\n",
    "\n",
    "\n",
    "%matplotlib inline"
   ]
  },
  {
   "cell_type": "code",
   "execution_count": 133,
   "metadata": {
    "collapsed": true
   },
   "outputs": [],
   "source": [
    "DATA_PATH = \"C:\\\\Users\\\\DMITRY\\\\PY\\\\\""
   ]
  },
  {
   "cell_type": "code",
   "execution_count": null,
   "metadata": {
    "collapsed": true
   },
   "outputs": [],
   "source": [
    "def count_top3(years):\n",
    "    columns = ['Name','Gender','Count']\n",
    "    big_data = []\n",
    "    for year in years: \n",
    "        big_data.append(pd.read_csv(\n",
    "            (DATA_PATH + 'yob{0}.txt'.format(year)), \n",
    "            names=columns\n",
    "        ))\n",
    "    big_frame = pd.concat(big_data, ignore_index=True)\n",
    "    big_frame = big_frame.groupby(['Name','Gender']).sum().sort_values(by='Count', ascending=False).reset_index()\n",
    "    return big_frame.Name.tolist()[:3]"
   ]
  },
  {
   "cell_type": "code",
   "execution_count": 219,
   "metadata": {},
   "outputs": [
    {
     "name": "stdout",
     "output_type": "stream",
     "text": [
      "{'M': [150486, 1790871, 1962744], 'F': [299810, 1713259, 1814922]}\n"
     ]
    }
   ],
   "source": [
    "def count_dynamics(years):\n",
    "    columns = ['Name','Gender','Count']\n",
    "    output_dict = {}\n",
    "    m_list = []\n",
    "    f_list = []\n",
    "    for year in years: \n",
    "        names = pd.read_csv(\n",
    "            (DATA_PATH + 'yob{0}.txt'.format(year)), \n",
    "            names=columns\n",
    "            )\n",
    "        m_list.append(names[names.Gender=='M'].Count.sum())\n",
    "        f_list.append(names[names.Gender=='F'].Count.sum())\n",
    "    output_dict[\"M\"] = m_list\n",
    "    output_dict[\"F\"] = f_list\n",
    "    return output_dict"
   ]
  },
  {
   "cell_type": "code",
   "execution_count": null,
   "metadata": {
    "collapsed": true
   },
   "outputs": [],
   "source": []
  }
 ],
 "metadata": {
  "kernelspec": {
   "display_name": "Python 3",
   "language": "python",
   "name": "python3"
  },
  "language_info": {
   "codemirror_mode": {
    "name": "ipython",
    "version": 3
   },
   "file_extension": ".py",
   "mimetype": "text/x-python",
   "name": "python",
   "nbconvert_exporter": "python",
   "pygments_lexer": "ipython3",
   "version": "3.6.1"
  }
 },
 "nbformat": 4,
 "nbformat_minor": 2
}
